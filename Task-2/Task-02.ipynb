{
 "cells": [
  {
   "cell_type": "markdown",
   "metadata": {
    "_cell_guid": "b1076dfc-b9ad-4769-8c92-a6c4dae69d19",
    "_uuid": "8f2839f25d086af736a60e9eeb907d3b93b6e0e5",
    "execution": {
     "iopub.execute_input": "2023-06-21T06:36:28.015974Z",
     "iopub.status.busy": "2023-06-21T06:36:28.015527Z",
     "iopub.status.idle": "2023-06-21T06:36:28.028890Z",
     "shell.execute_reply": "2023-06-21T06:36:28.027635Z",
     "shell.execute_reply.started": "2023-06-21T06:36:28.015923Z"
    }
   },
   "source": [
    "# Bank Customer Churn Prediction"
   ]
  },
  {
   "cell_type": "code",
   "execution_count": 1,
   "metadata": {},
   "outputs": [],
   "source": [
    "#Importing the Libraries\n",
    "import numpy as np \n",
    "import pandas as pd"
   ]
  },
  {
   "cell_type": "code",
   "execution_count": 2,
   "metadata": {
    "execution": {
     "iopub.execute_input": "2023-06-21T06:36:28.241389Z",
     "iopub.status.busy": "2023-06-21T06:36:28.240933Z",
     "iopub.status.idle": "2023-06-21T06:36:28.247594Z",
     "shell.execute_reply": "2023-06-21T06:36:28.246487Z",
     "shell.execute_reply.started": "2023-06-21T06:36:28.241352Z"
    }
   },
   "outputs": [],
   "source": [
    "import matplotlib.pyplot as plt\n",
    "from tensorflow.keras import Sequential\n",
    "from tensorflow.keras.layers import Dense\n",
    "from sklearn.preprocessing import StandardScaler\n",
    "from sklearn.model_selection import train_test_split\n",
    "from sklearn.metrics import accuracy_score\n",
    "from sklearn.model_selection import cross_val_score"
   ]
  },
  {
   "cell_type": "code",
   "execution_count": 3,
   "metadata": {
    "execution": {
     "iopub.execute_input": "2023-06-21T06:36:29.936471Z",
     "iopub.status.busy": "2023-06-21T06:36:29.936048Z",
     "iopub.status.idle": "2023-06-21T06:36:29.961700Z",
     "shell.execute_reply": "2023-06-21T06:36:29.960590Z",
     "shell.execute_reply.started": "2023-06-21T06:36:29.936428Z"
    }
   },
   "outputs": [],
   "source": [
    "#Reading the dataFile\n",
    "df = pd.read_csv(\"D:/codSoft/Task-2/Churn_Modelling.csv\")"
   ]
  },
  {
   "cell_type": "code",
   "execution_count": 4,
   "metadata": {
    "execution": {
     "iopub.execute_input": "2023-06-21T06:36:30.237400Z",
     "iopub.status.busy": "2023-06-21T06:36:30.236992Z",
     "iopub.status.idle": "2023-06-21T06:36:30.253824Z",
     "shell.execute_reply": "2023-06-21T06:36:30.252738Z",
     "shell.execute_reply.started": "2023-06-21T06:36:30.237368Z"
    }
   },
   "outputs": [
    {
     "data": {
      "text/html": [
       "<div>\n",
       "<style scoped>\n",
       "    .dataframe tbody tr th:only-of-type {\n",
       "        vertical-align: middle;\n",
       "    }\n",
       "\n",
       "    .dataframe tbody tr th {\n",
       "        vertical-align: top;\n",
       "    }\n",
       "\n",
       "    .dataframe thead th {\n",
       "        text-align: right;\n",
       "    }\n",
       "</style>\n",
       "<table border=\"1\" class=\"dataframe\">\n",
       "  <thead>\n",
       "    <tr style=\"text-align: right;\">\n",
       "      <th></th>\n",
       "      <th>RowNumber</th>\n",
       "      <th>CustomerId</th>\n",
       "      <th>Surname</th>\n",
       "      <th>CreditScore</th>\n",
       "      <th>Geography</th>\n",
       "      <th>Gender</th>\n",
       "      <th>Age</th>\n",
       "      <th>Tenure</th>\n",
       "      <th>Balance</th>\n",
       "      <th>NumOfProducts</th>\n",
       "      <th>HasCrCard</th>\n",
       "      <th>IsActiveMember</th>\n",
       "      <th>EstimatedSalary</th>\n",
       "      <th>Exited</th>\n",
       "    </tr>\n",
       "  </thead>\n",
       "  <tbody>\n",
       "    <tr>\n",
       "      <th>0</th>\n",
       "      <td>1</td>\n",
       "      <td>15634602</td>\n",
       "      <td>Hargrave</td>\n",
       "      <td>619</td>\n",
       "      <td>France</td>\n",
       "      <td>Female</td>\n",
       "      <td>42</td>\n",
       "      <td>2</td>\n",
       "      <td>0.00</td>\n",
       "      <td>1</td>\n",
       "      <td>1</td>\n",
       "      <td>1</td>\n",
       "      <td>101348.88</td>\n",
       "      <td>1</td>\n",
       "    </tr>\n",
       "    <tr>\n",
       "      <th>1</th>\n",
       "      <td>2</td>\n",
       "      <td>15647311</td>\n",
       "      <td>Hill</td>\n",
       "      <td>608</td>\n",
       "      <td>Spain</td>\n",
       "      <td>Female</td>\n",
       "      <td>41</td>\n",
       "      <td>1</td>\n",
       "      <td>83807.86</td>\n",
       "      <td>1</td>\n",
       "      <td>0</td>\n",
       "      <td>1</td>\n",
       "      <td>112542.58</td>\n",
       "      <td>0</td>\n",
       "    </tr>\n",
       "    <tr>\n",
       "      <th>2</th>\n",
       "      <td>3</td>\n",
       "      <td>15619304</td>\n",
       "      <td>Onio</td>\n",
       "      <td>502</td>\n",
       "      <td>France</td>\n",
       "      <td>Female</td>\n",
       "      <td>42</td>\n",
       "      <td>8</td>\n",
       "      <td>159660.80</td>\n",
       "      <td>3</td>\n",
       "      <td>1</td>\n",
       "      <td>0</td>\n",
       "      <td>113931.57</td>\n",
       "      <td>1</td>\n",
       "    </tr>\n",
       "    <tr>\n",
       "      <th>3</th>\n",
       "      <td>4</td>\n",
       "      <td>15701354</td>\n",
       "      <td>Boni</td>\n",
       "      <td>699</td>\n",
       "      <td>France</td>\n",
       "      <td>Female</td>\n",
       "      <td>39</td>\n",
       "      <td>1</td>\n",
       "      <td>0.00</td>\n",
       "      <td>2</td>\n",
       "      <td>0</td>\n",
       "      <td>0</td>\n",
       "      <td>93826.63</td>\n",
       "      <td>0</td>\n",
       "    </tr>\n",
       "    <tr>\n",
       "      <th>4</th>\n",
       "      <td>5</td>\n",
       "      <td>15737888</td>\n",
       "      <td>Mitchell</td>\n",
       "      <td>850</td>\n",
       "      <td>Spain</td>\n",
       "      <td>Female</td>\n",
       "      <td>43</td>\n",
       "      <td>2</td>\n",
       "      <td>125510.82</td>\n",
       "      <td>1</td>\n",
       "      <td>1</td>\n",
       "      <td>1</td>\n",
       "      <td>79084.10</td>\n",
       "      <td>0</td>\n",
       "    </tr>\n",
       "  </tbody>\n",
       "</table>\n",
       "</div>"
      ],
      "text/plain": [
       "   RowNumber  CustomerId   Surname  CreditScore Geography  Gender  Age  \\\n",
       "0          1    15634602  Hargrave          619    France  Female   42   \n",
       "1          2    15647311      Hill          608     Spain  Female   41   \n",
       "2          3    15619304      Onio          502    France  Female   42   \n",
       "3          4    15701354      Boni          699    France  Female   39   \n",
       "4          5    15737888  Mitchell          850     Spain  Female   43   \n",
       "\n",
       "   Tenure    Balance  NumOfProducts  HasCrCard  IsActiveMember  \\\n",
       "0       2       0.00              1          1               1   \n",
       "1       1   83807.86              1          0               1   \n",
       "2       8  159660.80              3          1               0   \n",
       "3       1       0.00              2          0               0   \n",
       "4       2  125510.82              1          1               1   \n",
       "\n",
       "   EstimatedSalary  Exited  \n",
       "0        101348.88       1  \n",
       "1        112542.58       0  \n",
       "2        113931.57       1  \n",
       "3         93826.63       0  \n",
       "4         79084.10       0  "
      ]
     },
     "execution_count": 4,
     "metadata": {},
     "output_type": "execute_result"
    }
   ],
   "source": [
    "df.head()"
   ]
  },
  {
   "cell_type": "code",
   "execution_count": 5,
   "metadata": {
    "execution": {
     "iopub.execute_input": "2023-06-21T06:36:34.828802Z",
     "iopub.status.busy": "2023-06-21T06:36:34.828058Z",
     "iopub.status.idle": "2023-06-21T06:36:34.835112Z",
     "shell.execute_reply": "2023-06-21T06:36:34.834271Z",
     "shell.execute_reply.started": "2023-06-21T06:36:34.828763Z"
    }
   },
   "outputs": [],
   "source": [
    "df = df.drop(columns=['RowNumber', 'CustomerId', 'Surname'])"
   ]
  },
  {
   "cell_type": "code",
   "execution_count": 6,
   "metadata": {
    "execution": {
     "iopub.execute_input": "2023-06-21T06:36:36.504293Z",
     "iopub.status.busy": "2023-06-21T06:36:36.503076Z",
     "iopub.status.idle": "2023-06-21T06:36:36.515852Z",
     "shell.execute_reply": "2023-06-21T06:36:36.514899Z",
     "shell.execute_reply.started": "2023-06-21T06:36:36.504253Z"
    }
   },
   "outputs": [],
   "source": [
    "df = pd.get_dummies(df, columns=['Geography', 'Gender'], drop_first=True)"
   ]
  },
  {
   "cell_type": "code",
   "execution_count": 7,
   "metadata": {
    "execution": {
     "iopub.execute_input": "2023-06-21T06:36:37.078914Z",
     "iopub.status.busy": "2023-06-21T06:36:37.078200Z",
     "iopub.status.idle": "2023-06-21T06:36:37.097805Z",
     "shell.execute_reply": "2023-06-21T06:36:37.096722Z",
     "shell.execute_reply.started": "2023-06-21T06:36:37.078879Z"
    }
   },
   "outputs": [
    {
     "data": {
      "text/html": [
       "<div>\n",
       "<style scoped>\n",
       "    .dataframe tbody tr th:only-of-type {\n",
       "        vertical-align: middle;\n",
       "    }\n",
       "\n",
       "    .dataframe tbody tr th {\n",
       "        vertical-align: top;\n",
       "    }\n",
       "\n",
       "    .dataframe thead th {\n",
       "        text-align: right;\n",
       "    }\n",
       "</style>\n",
       "<table border=\"1\" class=\"dataframe\">\n",
       "  <thead>\n",
       "    <tr style=\"text-align: right;\">\n",
       "      <th></th>\n",
       "      <th>CreditScore</th>\n",
       "      <th>Age</th>\n",
       "      <th>Tenure</th>\n",
       "      <th>Balance</th>\n",
       "      <th>NumOfProducts</th>\n",
       "      <th>HasCrCard</th>\n",
       "      <th>IsActiveMember</th>\n",
       "      <th>EstimatedSalary</th>\n",
       "      <th>Exited</th>\n",
       "      <th>Geography_Germany</th>\n",
       "      <th>Geography_Spain</th>\n",
       "      <th>Gender_Male</th>\n",
       "    </tr>\n",
       "  </thead>\n",
       "  <tbody>\n",
       "    <tr>\n",
       "      <th>0</th>\n",
       "      <td>619</td>\n",
       "      <td>42</td>\n",
       "      <td>2</td>\n",
       "      <td>0.00</td>\n",
       "      <td>1</td>\n",
       "      <td>1</td>\n",
       "      <td>1</td>\n",
       "      <td>101348.88</td>\n",
       "      <td>1</td>\n",
       "      <td>0</td>\n",
       "      <td>0</td>\n",
       "      <td>0</td>\n",
       "    </tr>\n",
       "    <tr>\n",
       "      <th>1</th>\n",
       "      <td>608</td>\n",
       "      <td>41</td>\n",
       "      <td>1</td>\n",
       "      <td>83807.86</td>\n",
       "      <td>1</td>\n",
       "      <td>0</td>\n",
       "      <td>1</td>\n",
       "      <td>112542.58</td>\n",
       "      <td>0</td>\n",
       "      <td>0</td>\n",
       "      <td>1</td>\n",
       "      <td>0</td>\n",
       "    </tr>\n",
       "    <tr>\n",
       "      <th>2</th>\n",
       "      <td>502</td>\n",
       "      <td>42</td>\n",
       "      <td>8</td>\n",
       "      <td>159660.80</td>\n",
       "      <td>3</td>\n",
       "      <td>1</td>\n",
       "      <td>0</td>\n",
       "      <td>113931.57</td>\n",
       "      <td>1</td>\n",
       "      <td>0</td>\n",
       "      <td>0</td>\n",
       "      <td>0</td>\n",
       "    </tr>\n",
       "    <tr>\n",
       "      <th>3</th>\n",
       "      <td>699</td>\n",
       "      <td>39</td>\n",
       "      <td>1</td>\n",
       "      <td>0.00</td>\n",
       "      <td>2</td>\n",
       "      <td>0</td>\n",
       "      <td>0</td>\n",
       "      <td>93826.63</td>\n",
       "      <td>0</td>\n",
       "      <td>0</td>\n",
       "      <td>0</td>\n",
       "      <td>0</td>\n",
       "    </tr>\n",
       "    <tr>\n",
       "      <th>4</th>\n",
       "      <td>850</td>\n",
       "      <td>43</td>\n",
       "      <td>2</td>\n",
       "      <td>125510.82</td>\n",
       "      <td>1</td>\n",
       "      <td>1</td>\n",
       "      <td>1</td>\n",
       "      <td>79084.10</td>\n",
       "      <td>0</td>\n",
       "      <td>0</td>\n",
       "      <td>1</td>\n",
       "      <td>0</td>\n",
       "    </tr>\n",
       "    <tr>\n",
       "      <th>...</th>\n",
       "      <td>...</td>\n",
       "      <td>...</td>\n",
       "      <td>...</td>\n",
       "      <td>...</td>\n",
       "      <td>...</td>\n",
       "      <td>...</td>\n",
       "      <td>...</td>\n",
       "      <td>...</td>\n",
       "      <td>...</td>\n",
       "      <td>...</td>\n",
       "      <td>...</td>\n",
       "      <td>...</td>\n",
       "    </tr>\n",
       "    <tr>\n",
       "      <th>9995</th>\n",
       "      <td>771</td>\n",
       "      <td>39</td>\n",
       "      <td>5</td>\n",
       "      <td>0.00</td>\n",
       "      <td>2</td>\n",
       "      <td>1</td>\n",
       "      <td>0</td>\n",
       "      <td>96270.64</td>\n",
       "      <td>0</td>\n",
       "      <td>0</td>\n",
       "      <td>0</td>\n",
       "      <td>1</td>\n",
       "    </tr>\n",
       "    <tr>\n",
       "      <th>9996</th>\n",
       "      <td>516</td>\n",
       "      <td>35</td>\n",
       "      <td>10</td>\n",
       "      <td>57369.61</td>\n",
       "      <td>1</td>\n",
       "      <td>1</td>\n",
       "      <td>1</td>\n",
       "      <td>101699.77</td>\n",
       "      <td>0</td>\n",
       "      <td>0</td>\n",
       "      <td>0</td>\n",
       "      <td>1</td>\n",
       "    </tr>\n",
       "    <tr>\n",
       "      <th>9997</th>\n",
       "      <td>709</td>\n",
       "      <td>36</td>\n",
       "      <td>7</td>\n",
       "      <td>0.00</td>\n",
       "      <td>1</td>\n",
       "      <td>0</td>\n",
       "      <td>1</td>\n",
       "      <td>42085.58</td>\n",
       "      <td>1</td>\n",
       "      <td>0</td>\n",
       "      <td>0</td>\n",
       "      <td>0</td>\n",
       "    </tr>\n",
       "    <tr>\n",
       "      <th>9998</th>\n",
       "      <td>772</td>\n",
       "      <td>42</td>\n",
       "      <td>3</td>\n",
       "      <td>75075.31</td>\n",
       "      <td>2</td>\n",
       "      <td>1</td>\n",
       "      <td>0</td>\n",
       "      <td>92888.52</td>\n",
       "      <td>1</td>\n",
       "      <td>1</td>\n",
       "      <td>0</td>\n",
       "      <td>1</td>\n",
       "    </tr>\n",
       "    <tr>\n",
       "      <th>9999</th>\n",
       "      <td>792</td>\n",
       "      <td>28</td>\n",
       "      <td>4</td>\n",
       "      <td>130142.79</td>\n",
       "      <td>1</td>\n",
       "      <td>1</td>\n",
       "      <td>0</td>\n",
       "      <td>38190.78</td>\n",
       "      <td>0</td>\n",
       "      <td>0</td>\n",
       "      <td>0</td>\n",
       "      <td>0</td>\n",
       "    </tr>\n",
       "  </tbody>\n",
       "</table>\n",
       "<p>10000 rows × 12 columns</p>\n",
       "</div>"
      ],
      "text/plain": [
       "      CreditScore  Age  Tenure    Balance  NumOfProducts  HasCrCard  \\\n",
       "0             619   42       2       0.00              1          1   \n",
       "1             608   41       1   83807.86              1          0   \n",
       "2             502   42       8  159660.80              3          1   \n",
       "3             699   39       1       0.00              2          0   \n",
       "4             850   43       2  125510.82              1          1   \n",
       "...           ...  ...     ...        ...            ...        ...   \n",
       "9995          771   39       5       0.00              2          1   \n",
       "9996          516   35      10   57369.61              1          1   \n",
       "9997          709   36       7       0.00              1          0   \n",
       "9998          772   42       3   75075.31              2          1   \n",
       "9999          792   28       4  130142.79              1          1   \n",
       "\n",
       "      IsActiveMember  EstimatedSalary  Exited  Geography_Germany  \\\n",
       "0                  1        101348.88       1                  0   \n",
       "1                  1        112542.58       0                  0   \n",
       "2                  0        113931.57       1                  0   \n",
       "3                  0         93826.63       0                  0   \n",
       "4                  1         79084.10       0                  0   \n",
       "...              ...              ...     ...                ...   \n",
       "9995               0         96270.64       0                  0   \n",
       "9996               1        101699.77       0                  0   \n",
       "9997               1         42085.58       1                  0   \n",
       "9998               0         92888.52       1                  1   \n",
       "9999               0         38190.78       0                  0   \n",
       "\n",
       "      Geography_Spain  Gender_Male  \n",
       "0                   0            0  \n",
       "1                   1            0  \n",
       "2                   0            0  \n",
       "3                   0            0  \n",
       "4                   1            0  \n",
       "...               ...          ...  \n",
       "9995                0            1  \n",
       "9996                0            1  \n",
       "9997                0            0  \n",
       "9998                0            1  \n",
       "9999                0            0  \n",
       "\n",
       "[10000 rows x 12 columns]"
      ]
     },
     "execution_count": 7,
     "metadata": {},
     "output_type": "execute_result"
    }
   ],
   "source": [
    "df"
   ]
  },
  {
   "cell_type": "code",
   "execution_count": 8,
   "metadata": {
    "execution": {
     "iopub.execute_input": "2023-06-21T06:41:31.181739Z",
     "iopub.status.busy": "2023-06-21T06:41:31.181390Z",
     "iopub.status.idle": "2023-06-21T06:41:31.188489Z",
     "shell.execute_reply": "2023-06-21T06:41:31.187144Z",
     "shell.execute_reply.started": "2023-06-21T06:41:31.181711Z"
    }
   },
   "outputs": [],
   "source": [
    "X = df.drop(columns=['Exited'])\n",
    "y = df['Exited'].values"
   ]
  },
  {
   "cell_type": "code",
   "execution_count": 9,
   "metadata": {
    "execution": {
     "iopub.execute_input": "2023-06-21T06:41:34.890400Z",
     "iopub.status.busy": "2023-06-21T06:41:34.889999Z",
     "iopub.status.idle": "2023-06-21T06:41:34.908745Z",
     "shell.execute_reply": "2023-06-21T06:41:34.907786Z",
     "shell.execute_reply.started": "2023-06-21T06:41:34.890369Z"
    }
   },
   "outputs": [],
   "source": [
    "X_train, X_test, y_train, y_test = train_test_split(X, y, test_size=0.2, random_state=0)\n",
    "scaled = StandardScaler()\n",
    "\n",
    "X_train_scaled = scaled.fit_transform(X_train)\n",
    "X_test_scaled = scaled.transform(X_test)"
   ]
  },
  {
   "cell_type": "code",
   "execution_count": 10,
   "metadata": {
    "execution": {
     "iopub.execute_input": "2023-06-21T06:41:36.883056Z",
     "iopub.status.busy": "2023-06-21T06:41:36.882638Z",
     "iopub.status.idle": "2023-06-21T06:41:36.949590Z",
     "shell.execute_reply": "2023-06-21T06:41:36.948537Z",
     "shell.execute_reply.started": "2023-06-21T06:41:36.883024Z"
    }
   },
   "outputs": [],
   "source": [
    "model = Sequential()\n",
    "\n",
    "model.add(Dense(8,activation='relu',input_dim=11))\n",
    "model.add(Dense(8,activation='relu'))\n",
    "model.add(Dense(6,activation='relu'))\n",
    "model.add(Dense(4,activation='relu'))\n",
    "model.add(Dense(1,activation='sigmoid'))"
   ]
  },
  {
   "cell_type": "code",
   "execution_count": 11,
   "metadata": {
    "execution": {
     "iopub.execute_input": "2023-06-21T06:41:38.944041Z",
     "iopub.status.busy": "2023-06-21T06:41:38.943628Z",
     "iopub.status.idle": "2023-06-21T06:41:38.967847Z",
     "shell.execute_reply": "2023-06-21T06:41:38.966773Z",
     "shell.execute_reply.started": "2023-06-21T06:41:38.944008Z"
    }
   },
   "outputs": [
    {
     "name": "stdout",
     "output_type": "stream",
     "text": [
      "Model: \"sequential\"\n",
      "_________________________________________________________________\n",
      " Layer (type)                Output Shape              Param #   \n",
      "=================================================================\n",
      " dense (Dense)               (None, 8)                 96        \n",
      "                                                                 \n",
      " dense_1 (Dense)             (None, 8)                 72        \n",
      "                                                                 \n",
      " dense_2 (Dense)             (None, 6)                 54        \n",
      "                                                                 \n",
      " dense_3 (Dense)             (None, 4)                 28        \n",
      "                                                                 \n",
      " dense_4 (Dense)             (None, 1)                 5         \n",
      "                                                                 \n",
      "=================================================================\n",
      "Total params: 255\n",
      "Trainable params: 255\n",
      "Non-trainable params: 0\n",
      "_________________________________________________________________\n"
     ]
    }
   ],
   "source": [
    "model.summary()"
   ]
  },
  {
   "cell_type": "markdown",
   "metadata": {},
   "source": [
    "# Calculating the Loss"
   ]
  },
  {
   "cell_type": "code",
   "execution_count": 12,
   "metadata": {
    "execution": {
     "iopub.execute_input": "2023-06-21T06:41:40.173512Z",
     "iopub.status.busy": "2023-06-21T06:41:40.173129Z",
     "iopub.status.idle": "2023-06-21T06:41:40.186315Z",
     "shell.execute_reply": "2023-06-21T06:41:40.185173Z",
     "shell.execute_reply.started": "2023-06-21T06:41:40.173484Z"
    }
   },
   "outputs": [],
   "source": [
    "model.compile(loss='binary_crossentropy', optimizer='Adam', metrics='accuracy')"
   ]
  },
  {
   "cell_type": "code",
   "execution_count": 13,
   "metadata": {
    "execution": {
     "iopub.execute_input": "2023-06-21T06:41:42.285286Z",
     "iopub.status.busy": "2023-06-21T06:41:42.284669Z",
     "iopub.status.idle": "2023-06-21T06:42:24.309671Z",
     "shell.execute_reply": "2023-06-21T06:42:24.308451Z",
     "shell.execute_reply.started": "2023-06-21T06:41:42.285249Z"
    }
   },
   "outputs": [
    {
     "name": "stdout",
     "output_type": "stream",
     "text": [
      "Epoch 1/90\n",
      "128/128 [==============================] - 1s 3ms/step - loss: 3097.1091 - accuracy: 0.5947 - val_loss: 8.2836 - val_accuracy: 0.7969\n",
      "Epoch 2/90\n",
      "128/128 [==============================] - 0s 2ms/step - loss: 2.9601 - accuracy: 0.7709 - val_loss: 1.7663 - val_accuracy: 0.7412\n",
      "Epoch 3/90\n",
      "128/128 [==============================] - 0s 2ms/step - loss: 2.2539 - accuracy: 0.7744 - val_loss: 1.9221 - val_accuracy: 0.7962\n",
      "Epoch 4/90\n",
      "128/128 [==============================] - 0s 2ms/step - loss: 2.4826 - accuracy: 0.7703 - val_loss: 2.0904 - val_accuracy: 0.7962\n",
      "Epoch 5/90\n",
      "128/128 [==============================] - 0s 2ms/step - loss: 2.4353 - accuracy: 0.7702 - val_loss: 3.8943 - val_accuracy: 0.6369\n",
      "Epoch 6/90\n",
      "128/128 [==============================] - 0s 2ms/step - loss: 5.6049 - accuracy: 0.7656 - val_loss: 4.8739 - val_accuracy: 0.6206\n",
      "Epoch 7/90\n",
      "128/128 [==============================] - 0s 2ms/step - loss: 2.5114 - accuracy: 0.7698 - val_loss: 2.2973 - val_accuracy: 0.7956\n",
      "Epoch 8/90\n",
      "128/128 [==============================] - 0s 2ms/step - loss: 2.6161 - accuracy: 0.7681 - val_loss: 5.3797 - val_accuracy: 0.7956\n",
      "Epoch 9/90\n",
      "128/128 [==============================] - 0s 2ms/step - loss: 3.0221 - accuracy: 0.7658 - val_loss: 9.5232 - val_accuracy: 0.7956\n",
      "Epoch 10/90\n",
      "128/128 [==============================] - 0s 2ms/step - loss: 2.8738 - accuracy: 0.7655 - val_loss: 0.9864 - val_accuracy: 0.7950\n",
      "Epoch 11/90\n",
      "128/128 [==============================] - 0s 2ms/step - loss: 2.4202 - accuracy: 0.7713 - val_loss: 1.4402 - val_accuracy: 0.7937\n",
      "Epoch 12/90\n",
      "128/128 [==============================] - 0s 2ms/step - loss: 3.2553 - accuracy: 0.7653 - val_loss: 1.1222 - val_accuracy: 0.7931\n",
      "Epoch 13/90\n",
      "128/128 [==============================] - 0s 2ms/step - loss: 2.9700 - accuracy: 0.7627 - val_loss: 1.5675 - val_accuracy: 0.7931\n",
      "Epoch 14/90\n",
      "128/128 [==============================] - 0s 2ms/step - loss: 2.6981 - accuracy: 0.7684 - val_loss: 0.7568 - val_accuracy: 0.7937\n",
      "Epoch 15/90\n",
      "128/128 [==============================] - 0s 2ms/step - loss: 3.7774 - accuracy: 0.7630 - val_loss: 6.4151 - val_accuracy: 0.7931\n",
      "Epoch 16/90\n",
      "128/128 [==============================] - 0s 2ms/step - loss: 3.9709 - accuracy: 0.7638 - val_loss: 2.2356 - val_accuracy: 0.7944\n",
      "Epoch 17/90\n",
      "128/128 [==============================] - 0s 2ms/step - loss: 3.6703 - accuracy: 0.7594 - val_loss: 5.9693 - val_accuracy: 0.7937\n",
      "Epoch 18/90\n",
      "128/128 [==============================] - 0s 2ms/step - loss: 4.7859 - accuracy: 0.7597 - val_loss: 3.9046 - val_accuracy: 0.7937\n",
      "Epoch 19/90\n",
      "128/128 [==============================] - 0s 2ms/step - loss: 4.5753 - accuracy: 0.7627 - val_loss: 0.8248 - val_accuracy: 0.6894\n",
      "Epoch 20/90\n",
      "128/128 [==============================] - 0s 2ms/step - loss: 4.1337 - accuracy: 0.7584 - val_loss: 5.2557 - val_accuracy: 0.7937\n",
      "Epoch 21/90\n",
      "128/128 [==============================] - 0s 2ms/step - loss: 4.1408 - accuracy: 0.7589 - val_loss: 0.5935 - val_accuracy: 0.7925\n",
      "Epoch 22/90\n",
      "128/128 [==============================] - 0s 2ms/step - loss: 3.5516 - accuracy: 0.7572 - val_loss: 6.0235 - val_accuracy: 0.7937\n",
      "Epoch 23/90\n",
      "128/128 [==============================] - 0s 2ms/step - loss: 6.0849 - accuracy: 0.7575 - val_loss: 3.8266 - val_accuracy: 0.7925\n",
      "Epoch 24/90\n",
      "128/128 [==============================] - 0s 2ms/step - loss: 4.0748 - accuracy: 0.7608 - val_loss: 6.3642 - val_accuracy: 0.5462\n",
      "Epoch 25/90\n",
      "128/128 [==============================] - 0s 2ms/step - loss: 4.0729 - accuracy: 0.7603 - val_loss: 6.0808 - val_accuracy: 0.7931\n",
      "Epoch 26/90\n",
      "128/128 [==============================] - 0s 2ms/step - loss: 2.9401 - accuracy: 0.7577 - val_loss: 0.7022 - val_accuracy: 0.7925\n",
      "Epoch 27/90\n",
      "128/128 [==============================] - 0s 2ms/step - loss: 3.6825 - accuracy: 0.7600 - val_loss: 2.2947 - val_accuracy: 0.5631\n",
      "Epoch 28/90\n",
      "128/128 [==============================] - 0s 2ms/step - loss: 3.1930 - accuracy: 0.7594 - val_loss: 6.2127 - val_accuracy: 0.7931\n",
      "Epoch 29/90\n",
      "128/128 [==============================] - 0s 2ms/step - loss: 3.4094 - accuracy: 0.7563 - val_loss: 1.9963 - val_accuracy: 0.7931\n",
      "Epoch 30/90\n",
      "128/128 [==============================] - 0s 2ms/step - loss: 3.9748 - accuracy: 0.7597 - val_loss: 6.9243 - val_accuracy: 0.5369\n",
      "Epoch 31/90\n",
      "128/128 [==============================] - 0s 2ms/step - loss: 3.6887 - accuracy: 0.7566 - val_loss: 2.6882 - val_accuracy: 0.7937\n",
      "Epoch 32/90\n",
      "128/128 [==============================] - 0s 2ms/step - loss: 3.9696 - accuracy: 0.7561 - val_loss: 2.0628 - val_accuracy: 0.7937\n",
      "Epoch 33/90\n",
      "128/128 [==============================] - 0s 2ms/step - loss: 5.4043 - accuracy: 0.7605 - val_loss: 10.2855 - val_accuracy: 0.5331\n",
      "Epoch 34/90\n",
      "128/128 [==============================] - 0s 2ms/step - loss: 4.4516 - accuracy: 0.7597 - val_loss: 2.2410 - val_accuracy: 0.7937\n",
      "Epoch 35/90\n",
      "128/128 [==============================] - 0s 2ms/step - loss: 3.7562 - accuracy: 0.7564 - val_loss: 0.5642 - val_accuracy: 0.7937\n",
      "Epoch 36/90\n",
      "128/128 [==============================] - 0s 2ms/step - loss: 4.2349 - accuracy: 0.7567 - val_loss: 5.2655 - val_accuracy: 0.5381\n",
      "Epoch 37/90\n",
      "128/128 [==============================] - 0s 2ms/step - loss: 3.7193 - accuracy: 0.7577 - val_loss: 0.5297 - val_accuracy: 0.7937\n",
      "Epoch 38/90\n",
      "128/128 [==============================] - 0s 2ms/step - loss: 2.6124 - accuracy: 0.7572 - val_loss: 2.7835 - val_accuracy: 0.7931\n",
      "Epoch 39/90\n",
      "128/128 [==============================] - 0s 2ms/step - loss: 3.4571 - accuracy: 0.7583 - val_loss: 2.1913 - val_accuracy: 0.7931\n",
      "Epoch 40/90\n",
      "128/128 [==============================] - 0s 2ms/step - loss: 2.8113 - accuracy: 0.7631 - val_loss: 2.7783 - val_accuracy: 0.7944\n",
      "Epoch 41/90\n",
      "128/128 [==============================] - 0s 2ms/step - loss: 4.6702 - accuracy: 0.7591 - val_loss: 1.1183 - val_accuracy: 0.5844\n",
      "Epoch 42/90\n",
      "128/128 [==============================] - 0s 2ms/step - loss: 2.2301 - accuracy: 0.7602 - val_loss: 0.4992 - val_accuracy: 0.7869\n",
      "Epoch 43/90\n",
      "128/128 [==============================] - 0s 2ms/step - loss: 4.1908 - accuracy: 0.7627 - val_loss: 6.5440 - val_accuracy: 0.7969\n",
      "Epoch 44/90\n",
      "128/128 [==============================] - 0s 2ms/step - loss: 3.7759 - accuracy: 0.7580 - val_loss: 0.7273 - val_accuracy: 0.7969\n",
      "Epoch 45/90\n",
      "128/128 [==============================] - 0s 2ms/step - loss: 3.8478 - accuracy: 0.7598 - val_loss: 0.7377 - val_accuracy: 0.7969\n",
      "Epoch 46/90\n",
      "128/128 [==============================] - 0s 2ms/step - loss: 3.4107 - accuracy: 0.7608 - val_loss: 3.7442 - val_accuracy: 0.7969\n",
      "Epoch 47/90\n",
      "128/128 [==============================] - 0s 2ms/step - loss: 2.5974 - accuracy: 0.7645 - val_loss: 4.3094 - val_accuracy: 0.7969\n",
      "Epoch 48/90\n",
      "128/128 [==============================] - 0s 2ms/step - loss: 2.3487 - accuracy: 0.7616 - val_loss: 1.1850 - val_accuracy: 0.7969\n",
      "Epoch 49/90\n",
      "128/128 [==============================] - 0s 2ms/step - loss: 3.0142 - accuracy: 0.7652 - val_loss: 8.9886 - val_accuracy: 0.7969\n",
      "Epoch 50/90\n",
      "128/128 [==============================] - 0s 2ms/step - loss: 4.3474 - accuracy: 0.7642 - val_loss: 2.8368 - val_accuracy: 0.7969\n",
      "Epoch 51/90\n",
      "128/128 [==============================] - 0s 2ms/step - loss: 3.3776 - accuracy: 0.7602 - val_loss: 1.5393 - val_accuracy: 0.7969\n",
      "Epoch 52/90\n",
      "128/128 [==============================] - 0s 2ms/step - loss: 1.7514 - accuracy: 0.7656 - val_loss: 1.3083 - val_accuracy: 0.7969\n",
      "Epoch 53/90\n",
      "128/128 [==============================] - 0s 2ms/step - loss: 2.5163 - accuracy: 0.7633 - val_loss: 7.4661 - val_accuracy: 0.5337\n",
      "Epoch 54/90\n",
      "128/128 [==============================] - 0s 2ms/step - loss: 1.7678 - accuracy: 0.7625 - val_loss: 2.5471 - val_accuracy: 0.7969\n",
      "Epoch 55/90\n",
      "128/128 [==============================] - 0s 2ms/step - loss: 2.3407 - accuracy: 0.7647 - val_loss: 2.5780 - val_accuracy: 0.7969\n",
      "Epoch 56/90\n",
      "128/128 [==============================] - 0s 2ms/step - loss: 2.1223 - accuracy: 0.7616 - val_loss: 4.0866 - val_accuracy: 0.7969\n",
      "Epoch 57/90\n",
      "128/128 [==============================] - 0s 2ms/step - loss: 1.4364 - accuracy: 0.7675 - val_loss: 1.0396 - val_accuracy: 0.7969\n",
      "Epoch 58/90\n"
     ]
    },
    {
     "name": "stdout",
     "output_type": "stream",
     "text": [
      "128/128 [==============================] - 0s 2ms/step - loss: 2.1295 - accuracy: 0.7666 - val_loss: 6.1934 - val_accuracy: 0.5350\n",
      "Epoch 59/90\n",
      "128/128 [==============================] - 0s 2ms/step - loss: 1.9763 - accuracy: 0.7597 - val_loss: 0.5209 - val_accuracy: 0.7981\n",
      "Epoch 60/90\n",
      "128/128 [==============================] - 0s 2ms/step - loss: 2.0587 - accuracy: 0.7708 - val_loss: 2.1851 - val_accuracy: 0.7969\n",
      "Epoch 61/90\n",
      "128/128 [==============================] - 0s 2ms/step - loss: 2.8615 - accuracy: 0.7616 - val_loss: 3.9750 - val_accuracy: 0.7969\n",
      "Epoch 62/90\n",
      "128/128 [==============================] - 0s 2ms/step - loss: 2.5531 - accuracy: 0.7623 - val_loss: 4.1668 - val_accuracy: 0.7969\n",
      "Epoch 63/90\n",
      "128/128 [==============================] - 0s 2ms/step - loss: 2.0676 - accuracy: 0.7647 - val_loss: 3.6545 - val_accuracy: 0.7969\n",
      "Epoch 64/90\n",
      "128/128 [==============================] - 0s 2ms/step - loss: 2.0424 - accuracy: 0.7684 - val_loss: 1.0926 - val_accuracy: 0.5794\n",
      "Epoch 65/90\n",
      "128/128 [==============================] - 0s 2ms/step - loss: 1.5378 - accuracy: 0.7645 - val_loss: 0.6607 - val_accuracy: 0.7969\n",
      "Epoch 66/90\n",
      "128/128 [==============================] - 0s 2ms/step - loss: 2.1603 - accuracy: 0.7645 - val_loss: 2.2962 - val_accuracy: 0.5519\n",
      "Epoch 67/90\n",
      "128/128 [==============================] - 0s 2ms/step - loss: 1.2995 - accuracy: 0.7822 - val_loss: 0.5109 - val_accuracy: 0.7969\n",
      "Epoch 68/90\n",
      "128/128 [==============================] - 0s 2ms/step - loss: 0.5107 - accuracy: 0.7958 - val_loss: 0.5101 - val_accuracy: 0.7969\n",
      "Epoch 69/90\n",
      "128/128 [==============================] - 0s 3ms/step - loss: 0.5095 - accuracy: 0.7958 - val_loss: 0.5095 - val_accuracy: 0.7969\n",
      "Epoch 70/90\n",
      "128/128 [==============================] - 0s 2ms/step - loss: 0.5084 - accuracy: 0.7958 - val_loss: 0.5091 - val_accuracy: 0.7969\n",
      "Epoch 71/90\n",
      "128/128 [==============================] - 0s 2ms/step - loss: 0.5077 - accuracy: 0.7958 - val_loss: 0.5089 - val_accuracy: 0.7969\n",
      "Epoch 72/90\n",
      "128/128 [==============================] - 0s 2ms/step - loss: 0.5073 - accuracy: 0.7958 - val_loss: 0.5087 - val_accuracy: 0.7969\n",
      "Epoch 73/90\n",
      "128/128 [==============================] - 0s 2ms/step - loss: 0.5069 - accuracy: 0.7958 - val_loss: 0.5086 - val_accuracy: 0.7969\n",
      "Epoch 74/90\n",
      "128/128 [==============================] - 0s 2ms/step - loss: 0.5067 - accuracy: 0.7958 - val_loss: 0.5087 - val_accuracy: 0.7969\n",
      "Epoch 75/90\n",
      "128/128 [==============================] - 0s 2ms/step - loss: 0.5065 - accuracy: 0.7958 - val_loss: 0.5085 - val_accuracy: 0.7969\n",
      "Epoch 76/90\n",
      "128/128 [==============================] - 0s 2ms/step - loss: 0.5064 - accuracy: 0.7958 - val_loss: 0.5087 - val_accuracy: 0.7969\n",
      "Epoch 77/90\n",
      "128/128 [==============================] - 0s 2ms/step - loss: 0.5063 - accuracy: 0.7958 - val_loss: 0.5086 - val_accuracy: 0.7969\n",
      "Epoch 78/90\n",
      "128/128 [==============================] - 0s 2ms/step - loss: 0.5063 - accuracy: 0.7958 - val_loss: 0.5084 - val_accuracy: 0.7969\n",
      "Epoch 79/90\n",
      "128/128 [==============================] - 0s 2ms/step - loss: 0.5062 - accuracy: 0.7958 - val_loss: 0.5084 - val_accuracy: 0.7969\n",
      "Epoch 80/90\n",
      "128/128 [==============================] - 0s 2ms/step - loss: 0.5062 - accuracy: 0.7958 - val_loss: 0.5083 - val_accuracy: 0.7969\n",
      "Epoch 81/90\n",
      "128/128 [==============================] - 0s 2ms/step - loss: 0.5062 - accuracy: 0.7958 - val_loss: 0.5083 - val_accuracy: 0.7969\n",
      "Epoch 82/90\n",
      "128/128 [==============================] - 0s 2ms/step - loss: 0.5061 - accuracy: 0.7958 - val_loss: 0.5082 - val_accuracy: 0.7969\n",
      "Epoch 83/90\n",
      "128/128 [==============================] - 0s 2ms/step - loss: 0.5061 - accuracy: 0.7958 - val_loss: 0.5081 - val_accuracy: 0.7969\n",
      "Epoch 84/90\n",
      "128/128 [==============================] - 0s 2ms/step - loss: 0.5061 - accuracy: 0.7958 - val_loss: 0.5079 - val_accuracy: 0.7969\n",
      "Epoch 85/90\n",
      "128/128 [==============================] - 0s 2ms/step - loss: 0.5061 - accuracy: 0.7958 - val_loss: 0.5078 - val_accuracy: 0.7969\n",
      "Epoch 86/90\n",
      "128/128 [==============================] - 0s 2ms/step - loss: 0.5061 - accuracy: 0.7958 - val_loss: 0.5077 - val_accuracy: 0.7969\n",
      "Epoch 87/90\n",
      "128/128 [==============================] - 0s 2ms/step - loss: 0.5060 - accuracy: 0.7958 - val_loss: 0.5075 - val_accuracy: 0.7969\n",
      "Epoch 88/90\n",
      "128/128 [==============================] - 0s 2ms/step - loss: 0.5060 - accuracy: 0.7958 - val_loss: 0.5076 - val_accuracy: 0.7969\n",
      "Epoch 89/90\n",
      "128/128 [==============================] - 0s 2ms/step - loss: 0.5060 - accuracy: 0.7958 - val_loss: 0.5072 - val_accuracy: 0.7969\n",
      "Epoch 90/90\n",
      "128/128 [==============================] - 0s 2ms/step - loss: 0.5060 - accuracy: 0.7958 - val_loss: 0.5075 - val_accuracy: 0.7969\n"
     ]
    }
   ],
   "source": [
    "history = model.fit(X_train, y_train, epochs=90, batch_size=50, validation_split=0.2, verbose=1)"
   ]
  },
  {
   "cell_type": "code",
   "execution_count": 14,
   "metadata": {
    "execution": {
     "iopub.execute_input": "2023-06-21T06:42:24.312423Z",
     "iopub.status.busy": "2023-06-21T06:42:24.312072Z",
     "iopub.status.idle": "2023-06-21T06:42:24.539203Z",
     "shell.execute_reply": "2023-06-21T06:42:24.538092Z",
     "shell.execute_reply.started": "2023-06-21T06:42:24.312392Z"
    }
   },
   "outputs": [
    {
     "name": "stdout",
     "output_type": "stream",
     "text": [
      "63/63 [==============================] - 0s 1ms/step\n"
     ]
    }
   ],
   "source": [
    "y_pred = model.predict(X_test)\n",
    "y_pred = y_pred.argmax(axis=1)"
   ]
  },
  {
   "cell_type": "code",
   "execution_count": 15,
   "metadata": {
    "execution": {
     "iopub.execute_input": "2023-06-21T06:42:24.834006Z",
     "iopub.status.busy": "2023-06-21T06:42:24.832932Z",
     "iopub.status.idle": "2023-06-21T06:42:24.841732Z",
     "shell.execute_reply": "2023-06-21T06:42:24.840572Z",
     "shell.execute_reply.started": "2023-06-21T06:42:24.833945Z"
    }
   },
   "outputs": [
    {
     "data": {
      "text/plain": [
       "0.7975"
      ]
     },
     "execution_count": 15,
     "metadata": {},
     "output_type": "execute_result"
    }
   ],
   "source": [
    "accuracy_score(y_test, y_pred)"
   ]
  },
  {
   "cell_type": "markdown",
   "metadata": {},
   "source": [
    "# Plotting the Graph"
   ]
  },
  {
   "cell_type": "code",
   "execution_count": 16,
   "metadata": {
    "execution": {
     "iopub.execute_input": "2023-06-21T06:42:27.677694Z",
     "iopub.status.busy": "2023-06-21T06:42:27.677285Z",
     "iopub.status.idle": "2023-06-21T06:42:27.912049Z",
     "shell.execute_reply": "2023-06-21T06:42:27.911003Z",
     "shell.execute_reply.started": "2023-06-21T06:42:27.677662Z"
    }
   },
   "outputs": [
    {
     "data": {
      "text/plain": [
       "[<matplotlib.lines.Line2D at 0x1822589b640>]"
      ]
     },
     "execution_count": 16,
     "metadata": {},
     "output_type": "execute_result"
    },
    {
     "data": {
      "image/png": "[encoded data removed]",
      "text/plain": [
       "<Figure size 432x288 with 1 Axes>"
      ]
     },
     "metadata": {
      "needs_background": "light"
     },
     "output_type": "display_data"
    }
   ],
   "source": [
    "plt.plot(history.history['loss'])\n",
    "plt.plot(history.history['val_loss'])"
   ]
  },
  {
   "cell_type": "code",
   "execution_count": 17,
   "metadata": {
    "execution": {
     "iopub.execute_input": "2023-06-21T06:42:30.134684Z",
     "iopub.status.busy": "2023-06-21T06:42:30.134270Z",
     "iopub.status.idle": "2023-06-21T06:42:30.367823Z",
     "shell.execute_reply": "2023-06-21T06:42:30.366751Z",
     "shell.execute_reply.started": "2023-06-21T06:42:30.134643Z"
    }
   },
   "outputs": [
    {
     "data": {
      "text/plain": [
       "[<matplotlib.lines.Line2D at 0x182259757f0>]"
      ]
     },
     "execution_count": 17,
     "metadata": {},
     "output_type": "execute_result"
    },
    {
     "data": {
      "image/png": "[encoded data removed]",
      "text/plain": [
       "<Figure size 432x288 with 1 Axes>"
      ]
     },
     "metadata": {
      "needs_background": "light"
     },
     "output_type": "display_data"
    }
   ],
   "source": [
    "plt.plot(history.history['accuracy'])\n",
    "plt.plot(history.history['val_accuracy'])"
   ]
  }
 ],
 "metadata": {
  "kernelspec": {
   "display_name": "Python 3 (ipykernel)",
   "language": "python",
   "name": "python3"
  },
  "language_info": {
   "codemirror_mode": {
    "name": "ipython",
    "version": 3
   },
   "file_extension": ".py",
   "mimetype": "text/x-python",
   "name": "python",
   "nbconvert_exporter": "python",
   "pygments_lexer": "ipython3",
   "version": "3.9.12"
  }
 },
 "nbformat": 4,
 "nbformat_minor": 4
}
